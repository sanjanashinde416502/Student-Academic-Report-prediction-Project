{
 "cells": [
  {
   "cell_type": "markdown",
   "id": "2a8b7c87-69bc-429f-8f76-edafcbac8321",
   "metadata": {},
   "source": [
    "# model training"
   ]
  },
  {
   "cell_type": "code",
   "execution_count": null,
   "id": "24ff24bf-8556-4057-97f1-dee0daf33fa2",
   "metadata": {},
   "outputs": [],
   "source": [
    "# Importing libraries\n",
    "import pandas as pd\n",
    "import numpy as np\n",
    "import matplotlib.pyplot as plt\n",
    "import seaborn as sns\n",
    "%matplotlib inline"
   ]
  },
  {
   "cell_type": "code",
   "execution_count": null,
   "id": "af1e51e2-6b27-4031-8490-6b764249aa6e",
   "metadata": {},
   "outputs": [],
   "source": [
    "# read dataset\n",
    "df=pd.read_excel(\"student_CGPA_prediction_dataset (1).xlsx\")"
   ]
  },
  {
   "cell_type": "code",
   "execution_count": null,
   "id": "ef4d6ebc-f834-4b1c-838f-47bc65626013",
   "metadata": {},
   "outputs": [],
   "source": [
    "df.head()"
   ]
  },
  {
   "cell_type": "code",
   "execution_count": null,
   "id": "fd585aab-37da-4f09-9531-86f1548ab5d4",
   "metadata": {},
   "outputs": [],
   "source": [
    "df.columns"
   ]
  },
  {
   "cell_type": "code",
   "execution_count": null,
   "id": "5231b77f-9021-45dd-96b0-d5aa6335a229",
   "metadata": {},
   "outputs": [],
   "source": [
    "df.isnull().sum()             # dataset has no null values"
   ]
  },
  {
   "cell_type": "code",
   "execution_count": null,
   "id": "5997624e-3902-4234-bca2-178f79e9cf71",
   "metadata": {},
   "outputs": [],
   "source": [
    "# Encoding\n",
    "df['Grade']=np.where(df['Grade'].str.contains('fail'),0,1)"
   ]
  },
  {
   "cell_type": "code",
   "execution_count": null,
   "id": "3e4b353f-15e7-44b9-8d6b-8508d9b0d6ca",
   "metadata": {},
   "outputs": [],
   "source": [
    "df.head()"
   ]
  },
  {
   "cell_type": "code",
   "execution_count": null,
   "id": "0c36ec4b-e7fe-4127-893a-50b9d9b44ba4",
   "metadata": {},
   "outputs": [],
   "source": [
    "df.tail()"
   ]
  },
  {
   "cell_type": "code",
   "execution_count": null,
   "id": "8426b08f-1438-40fa-93f6-2e6847592146",
   "metadata": {},
   "outputs": [],
   "source": [
    "df['Grade'].value_counts()"
   ]
  },
  {
   "cell_type": "code",
   "execution_count": null,
   "id": "52f83279-9425-4a37-af60-214373ad3610",
   "metadata": {},
   "outputs": [],
   "source": [
    "# seperating among dependent ad independent features\n",
    "x=df.drop(['Total','Percentage','Grade','CGPA'],axis=1)\n",
    "y=df['CGPA']"
   ]
  },
  {
   "cell_type": "code",
   "execution_count": null,
   "id": "cd53b2ff-7d0c-48f6-a971-bb7c35e1b930",
   "metadata": {},
   "outputs": [],
   "source": [
    "x.head()"
   ]
  },
  {
   "cell_type": "code",
   "execution_count": null,
   "id": "5672a3aa-014e-46aa-b755-f554205e95d9",
   "metadata": {},
   "outputs": [],
   "source": [
    "y"
   ]
  },
  {
   "cell_type": "code",
   "execution_count": null,
   "id": "dd0f66a3-b8c6-4a00-aa28-f71985ab0d9b",
   "metadata": {},
   "outputs": [],
   "source": [
    "# train test split\n",
    "from sklearn.model_selection import train_test_split"
   ]
  },
  {
   "cell_type": "code",
   "execution_count": null,
   "id": "61ac3bb1-3cd0-4042-9c9b-435855614f39",
   "metadata": {},
   "outputs": [],
   "source": [
    "X_train, X_test, y_train, y_test = train_test_split( x, y, test_size=0.20, random_state=42)"
   ]
  },
  {
   "cell_type": "code",
   "execution_count": null,
   "id": "15354c1a-2871-42d3-ade0-de695550bd6d",
   "metadata": {},
   "outputs": [],
   "source": [
    "X_train.shape,X_test.shape"
   ]
  },
  {
   "cell_type": "markdown",
   "id": "7761e88b-edd1-493e-816b-67ff73a5ac82",
   "metadata": {},
   "source": [
    "## Feature selection based on correlation"
   ]
  },
  {
   "cell_type": "code",
   "execution_count": null,
   "id": "c4a44e92-7489-4b5f-bde7-e84f0be28dbb",
   "metadata": {},
   "outputs": [],
   "source": [
    "X_train.corr()"
   ]
  },
  {
   "cell_type": "markdown",
   "id": "cbf0a88f-4612-443c-b5c1-0c993e7f9a97",
   "metadata": {},
   "source": [
    "## feature selection"
   ]
  },
  {
   "cell_type": "code",
   "execution_count": null,
   "id": "b66f5311-fc34-4948-8cb1-13609d6017e0",
   "metadata": {},
   "outputs": [],
   "source": [
    "# cheack for multicollinearity\n",
    "plt.figure(figsize=(12,8))\n",
    "corr=X_train.corr()\n",
    "sns.heatmap(corr,annot=True)"
   ]
  },
  {
   "cell_type": "code",
   "execution_count": null,
   "id": "9776ef99-2bf0-4c02-bdce-7c7c253bd887",
   "metadata": {},
   "outputs": [],
   "source": [
    "# here we are doing feature selection based on co-relation if there corr is more than threshold then we try to delete that feature and and select only imp features\n"
   ]
  },
  {
   "cell_type": "code",
   "execution_count": null,
   "id": "e41308b1-58b5-43e7-a215-9165f7dfb1d8",
   "metadata": {},
   "outputs": [],
   "source": [
    "X_train.corr()"
   ]
  },
  {
   "cell_type": "code",
   "execution_count": null,
   "id": "71f94fe6-9ba6-4da8-88d0-d12d2b4a0ea5",
   "metadata": {},
   "outputs": [],
   "source": [
    "def correlation(dataset,threshold):\n",
    "    col_corr=set()\n",
    "    corr_matrix=dataset.corr()\n",
    "    for i in range(len(dataset.columns)):\n",
    "        for j in range(i):\n",
    "            if abs(corr_matrix.iloc[i,j])>threshold:\n",
    "                col_name=corr_matrix.columns[i]\n",
    "                col_corr.add(col_name)\n",
    "    return col_corr"
   ]
  },
  {
   "cell_type": "code",
   "execution_count": null,
   "id": "8b640a9f-e2a7-4c44-8f07-784aa6f76f2e",
   "metadata": {},
   "outputs": [],
   "source": [
    "## threshold --is decieded by domain expertise\n",
    "corr_features=correlation(X_train,0.75)"
   ]
  },
  {
   "cell_type": "code",
   "execution_count": null,
   "id": "44569bd7-6f5c-48a6-afda-3bca816f5864",
   "metadata": {},
   "outputs": [],
   "source": [
    "corr_features"
   ]
  },
  {
   "cell_type": "code",
   "execution_count": null,
   "id": "e8a5d774-84e3-485f-b79b-08cc0804016d",
   "metadata": {},
   "outputs": [],
   "source": [
    "# here we can see that there is no multicollinearity among all input features that we have that is our subject names \n",
    "# So we are getting empty set\n",
    "# it seems that there is no such features that are more co-related\n",
    "# So we will that all features for training our model"
   ]
  },
  {
   "cell_type": "code",
   "execution_count": null,
   "id": "81f6378f-786c-4a66-8697-885a50abc04d",
   "metadata": {},
   "outputs": [],
   "source": [
    "# So as we are taking all features in dataset for training so we can't drop any feature"
   ]
  },
  {
   "cell_type": "markdown",
   "id": "36dfc7b2-95f6-45ea-a3ad-cc8b498fe29a",
   "metadata": {},
   "source": [
    "## Feature scalling or standardization"
   ]
  },
  {
   "cell_type": "code",
   "execution_count": null,
   "id": "b65f53e7-2763-4955-b197-12f51e5c9bb1",
   "metadata": {},
   "outputs": [],
   "source": [
    "from sklearn.preprocessing import StandardScaler\n",
    "scaler=StandardScaler()\n",
    "x_train_scl=scaler.fit_transform(X_train)\n",
    "x_test_scl=scaler.transform(X_test)"
   ]
  },
  {
   "cell_type": "code",
   "execution_count": null,
   "id": "cc187360-bb4c-4071-b17e-e8237dd9798f",
   "metadata": {},
   "outputs": [],
   "source": [
    "x_train_scl"
   ]
  },
  {
   "cell_type": "markdown",
   "id": "f5f1e896-4a37-4bdc-a839-1391836818b2",
   "metadata": {},
   "source": [
    "## Box plots to understand effects of standard scaler"
   ]
  },
  {
   "cell_type": "code",
   "execution_count": null,
   "id": "b979bc0f-950a-4ca8-9e2d-ec6753bcb276",
   "metadata": {},
   "outputs": [],
   "source": [
    "plt.subplots(figsize=(15,5))\n",
    "plt.subplot(1,2,1)\n",
    "sns.boxplot(data=X_train)\n",
    "plt.title(\"X_train before scalling\")\n",
    "plt.subplot(1,2,2)\n",
    "sns.boxplot(data=x_train_scl)\n",
    "plt.title('X_train after scalling')"
   ]
  },
  {
   "cell_type": "markdown",
   "id": "37655a14-9264-4d6d-81ca-87e3d9b8e131",
   "metadata": {},
   "source": [
    "## Linear Regression Model"
   ]
  },
  {
   "cell_type": "code",
   "execution_count": null,
   "id": "e067e324-3ef3-45a0-a130-bc1b367b92d7",
   "metadata": {},
   "outputs": [],
   "source": [
    "from sklearn.linear_model import LinearRegression\n",
    "from sklearn.metrics import mean_absolute_error\n",
    "from sklearn.metrics import r2_score\n",
    "legreg=LinearRegression()\n",
    "legreg.fit(x_train_scl,y_train)\n",
    "y_pred_test=legreg.predict(x_test_scl)\n",
    "mae=mean_absolute_error(y_test,y_pred_test)\n",
    "score=r2_score(y_test,y_pred_test)\n",
    "print(\"Mean Absolute error:\",mae)\n",
    "print(\"r2 Score:\",score)"
   ]
  },
  {
   "cell_type": "markdown",
   "id": "92ef6b99-ac5d-4b7d-b0b7-f04ec70b1fb2",
   "metadata": {},
   "source": [
    "## Lasso Regression"
   ]
  },
  {
   "cell_type": "code",
   "execution_count": null,
   "id": "64c0a6f1-510b-4e6c-b5ac-ba96e9adcbfc",
   "metadata": {},
   "outputs": [],
   "source": [
    "from sklearn.linear_model import Lasso\n",
    "from sklearn.metrics import mean_absolute_error\n",
    "from sklearn.metrics import r2_score\n",
    "lasso=Lasso()\n",
    "lasso.fit(x_train_scl,y_train)\n",
    "y_pred_test=lasso.predict(x_test_scl)\n",
    "mae=mean_absolute_error(y_test,y_pred_test)\n",
    "score=r2_score(y_test,y_pred_test)\n",
    "print(\"Mean Absolute error:\",mae)\n",
    "print(\"r2 Score:\",score)"
   ]
  },
  {
   "cell_type": "markdown",
   "id": "8c8b564f-f1fb-4694-89e3-e6c01afa2eb1",
   "metadata": {},
   "source": [
    "## Ridge regression model"
   ]
  },
  {
   "cell_type": "code",
   "execution_count": null,
   "id": "b5966407-38fa-499c-9a03-028314638eb6",
   "metadata": {},
   "outputs": [],
   "source": [
    "from sklearn.linear_model import Ridge\n",
    "from sklearn.metrics import mean_absolute_error\n",
    "from sklearn.metrics import r2_score\n",
    "ridge=Ridge()\n",
    "ridge.fit(x_train_scl,y_train)\n",
    "y_pred_test=ridge.predict(x_test_scl)\n",
    "mae=mean_absolute_error(y_test,y_pred_test)\n",
    "score=r2_score(y_test,y_pred_test)\n",
    "print(\"Mean Absolute error:\",mae)\n",
    "print(\"r2 score\",score)"
   ]
  },
  {
   "cell_type": "markdown",
   "id": "e2ad4eb2-43c0-4f20-b0f4-1f0e811fd51b",
   "metadata": {},
   "source": [
    "## Elasticnet regression"
   ]
  },
  {
   "cell_type": "code",
   "execution_count": null,
   "id": "5c4f52ac-f394-403c-8dd3-db10482723e9",
   "metadata": {},
   "outputs": [],
   "source": [
    "from sklearn.linear_model import ElasticNet\n",
    "from sklearn.metrics import mean_absolute_error\n",
    "from sklearn.metrics import r2_score\n",
    "elastic=ElasticNet()\n",
    "elastic.fit(x_train_scl,y_train)\n",
    "y_pred_test=elastic.predict(x_test_scl)\n",
    "mae=mean_absolute_error(y_test,y_pred_test)\n",
    "score=r2_score(y_test,y_pred_test)\n",
    "print(\"Mean Absolute error:\",mae)\n",
    "print(\"r2 score\",score)"
   ]
  },
  {
   "cell_type": "code",
   "execution_count": null,
   "id": "aaefa1e8-e694-4dbf-9bb5-dc8483292988",
   "metadata": {},
   "outputs": [],
   "source": [
    "## making pickel file of our ridge model"
   ]
  },
  {
   "cell_type": "code",
   "execution_count": null,
   "id": "69645958-9b14-4996-84a5-7fb206cd4215",
   "metadata": {},
   "outputs": [],
   "source": [
    "# ridge model is seleted instead of linear as linear model may leads to overfiting"
   ]
  },
  {
   "cell_type": "code",
   "execution_count": null,
   "id": "b94471a6-047a-473a-9b07-ad8037020d82",
   "metadata": {},
   "outputs": [],
   "source": [
    "import pickle\n",
    "pickle.dump(scaler,open(\"student_CGPA_prediction_project_scaler_model.pkl\",'wb'))\n",
    "pickle.dump(ridge,open(\"student_CGPA_prediction_project_ridge_model.pkl\",'wb'))"
   ]
  },
  {
   "cell_type": "code",
   "execution_count": null,
   "id": "c75a088c-6354-4d64-8302-42ea5829bd0c",
   "metadata": {},
   "outputs": [],
   "source": []
  }
 ],
 "metadata": {
  "kernelspec": {
   "display_name": "Python 3.8.10 64-bit",
   "language": "python",
   "name": "python3"
  },
  "language_info": {
   "codemirror_mode": {
    "name": "ipython",
    "version": 3
   },
   "file_extension": ".py",
   "mimetype": "text/x-python",
   "name": "python",
   "nbconvert_exporter": "python",
   "pygments_lexer": "ipython3",
   "version": "3.8.10"
  },
  "vscode": {
   "interpreter": {
    "hash": "e7370f93d1d0cde622a1f8e1c04877d8463912d04d973331ad4851f04de6915a"
   }
  }
 },
 "nbformat": 4,
 "nbformat_minor": 5
}
